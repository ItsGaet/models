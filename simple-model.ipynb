# Importa le librerie necessarie
import numpy as np
from sklearn.model_selection import train_test_split
from sklearn.linear_model import LinearRegression
import matplotlib.pyplot as plt

# Genera dati di esempio
np.random.seed(42)
X = 2 * np.random.rand(100, 1)
y = 4 + 3 * X + np.random.randn(100, 1)

# Dividi il dataset in set di addestramento e test
X_train, X_test, y_train, y_test = train_test_split(X, y, test_size=0.2, >random_state=42)

# Crea il modello di regressione lineare
model = LinearRegression()

# Addestra il modello
model.fit(X_train, y_train)

# Fai predizioni sul set di test
y_pred = model.predict(X_test)

# Valuta le prestazioni del modello
from sklearn.metrics import mean_squared_error
mse = mean_squared_error(y_test, y_pred)
print(f"Mean Squared Error: {mse}")

# Visualizza i risultati
plt.scatter(X_test, y_test, color='black')
plt.plot(X_test, y_pred, color='blue', linewidth=3)
plt.xlabel('Caratteristica (X)')
plt.ylabel('Variabile di risposta (y)')
plt.title('Regressione Lineare Semplice')
plt.show()
